{
 "cells": [
  {
   "cell_type": "code",
   "execution_count": 7,
   "metadata": {},
   "outputs": [],
   "source": [
    "from IPython.display import Image\n",
    "\n",
    "import mlflow"
   ]
  },
  {
   "cell_type": "markdown",
   "metadata": {},
   "source": [
    "# A Hitchhiker’s Guide to MLOps\n",
    "\n",
    "### Don't Panic and Grab Your ~~Towel~~ Notebook!\n",
    "\n",
    "\n",
    "\n",
    "## Davide Frazzetto | June 2022"
   ]
  },
  {
   "cell_type": "markdown",
   "metadata": {},
   "source": [
    "# About me\n",
    "\n",
    "\n",
    "# My picture funny\n",
    "\n",
    "# Massive entertainment\n",
    "### Picture\n",
    "### Picture of Games\n",
    "### Fika!\n"
   ]
  },
  {
   "cell_type": "markdown",
   "metadata": {},
   "source": [
    "# Most important facts about me\n",
    "\n",
    "\n",
    "### Food:Sichuan chili oil picture\n",
    "### Fav game: Undertale picture"
   ]
  },
  {
   "cell_type": "markdown",
   "metadata": {},
   "source": [
    "# Games and Machine Learning?\n",
    "\n",
    "### Game Intelligence Department picture\n",
    "## Projects\n",
    "\n",
    "### BAT\n",
    "### Data Pipelines and MLOps pipelines for data analysis\n",
    "### Millions of players, large amount of data"
   ]
  },
  {
   "cell_type": "markdown",
   "metadata": {},
   "source": [
    "# You said MLOps? Do I need to care about it?\n",
    "\n",
    "I'd say yes!\n",
    "\n",
    "### Microsoft BOT tweets collage\n"
   ]
  },
  {
   "cell_type": "markdown",
   "metadata": {},
   "source": [
    "\n",
    "# What are your KPIs?\n",
    "\n",
    "![racism_police](figures/racism.png)\n",
    "\n",
    "\n",
    "\n",
    "\n",
    "\n",
    "*Speaker Notes*\n",
    "- If they had a monitoring system tracking as KPI AI racism, they would have noticed things going wrong before it was too late\n",
    "- This shows there are two important points:\n",
    "    - Live monitoring\n",
    "    - Set your KPI right! Monitoring the wrong things is not really that useful\n"
   ]
  },
  {
   "cell_type": "markdown",
   "metadata": {},
   "source": [
    "# AI philosophy 101?\n",
    "\n",
    "In a data driven world, do you want to leave your bots unsupervised? \n",
    "\n",
    "![Free AI?](figures/blade.gif)\n",
    "\n",
    "\n",
    "*Speaker note: Not all AIs results are as visible and easy to grasp as the Microsoft Bot. Some will simply cost you millions.*"
   ]
  },
  {
   "cell_type": "markdown",
   "metadata": {},
   "source": [
    "# Question time\n",
    "\n",
    "### Who has deployed an ML app to production?\n",
    "### Who has tracked/monitored an ML app?\n",
    "\n",
    "\n",
    "<img src=\"figures/42.PNG\" alt=\"42\" width=\"600\"/>"
   ]
  },
  {
   "cell_type": "markdown",
   "metadata": {},
   "source": [
    "# Agenda\n",
    "\n",
    "- DevOps is good, let's take a look\n",
    "- What is MLOps?\n",
    "- MLFlow to the rescue!\n",
    "- Tracking models with MLFlow\n",
    "- Monitoring with Grafana\n",
    "- Common Pitfalls, Tips, & Tricks\n"
   ]
  },
  {
   "cell_type": "markdown",
   "metadata": {},
   "source": [
    "# DevOps\n",
    "\n",
    "Key principles of DevOps:\n",
    "\n",
    "- Automation\n",
    "- Iteration\n",
    "- Self-service\n",
    "- Continuous improvement\n",
    "- Continuous testing\n",
    "- Collaboration\n",
    "\n",
    "<img src=\"figures/devops.png\" alt=\"devops_lifecycle\" width=\"600\"/>"
   ]
  },
  {
   "cell_type": "markdown",
   "metadata": {},
   "source": [
    "I like this stuff, can we steal it?\n",
    "\n",
    "![steal](figures/meme_steal.jpg)\n",
    "\n",
    "\n",
    "Joke: Unlike stealing memes, which I have done plenty thorouhgut this presentation, stealing tech with pride is always best choice. Never reinvent the wheel!"
   ]
  },
  {
   "cell_type": "markdown",
   "metadata": {},
   "source": [
    "# But not that easy!\n",
    "\n",
    "\n",
    "<img src=\"figures/devops_ez.webp\" alt=\"devops_ez\" width=\"600\"/>\n",
    "\n",
    "Image credit: [bigdatarepublic.nl/articles/from-devops-to-mlops/](https://www.bigdatarepublic.nl/articles/from-devops-to-mlops/)"
   ]
  },
  {
   "cell_type": "markdown",
   "metadata": {},
   "source": [
    "<img src=\"figures/mordor.jpg\" alt=\"mordor\" width=\"600\"/>\n",
    "\n",
    "\n",
    "*Speaker note: Explain multidimensional ML challenge vs software engineering (code VS data)*"
   ]
  },
  {
   "cell_type": "markdown",
   "metadata": {},
   "source": [
    "<img src=\"figures/mlops_not_ez.webp\" alt=\"mlops_no_ez\" width=\"600\"/>\n",
    "\n",
    "\n",
    "Image credit: [bigdatarepublic.nl/articles/from-devops-to-mlops/](https://www.bigdatarepublic.nl/articles/from-devops-to-mlops/)"
   ]
  },
  {
   "cell_type": "markdown",
   "metadata": {},
   "source": [
    "# MLOps\n",
    "\n",
    "### In a few words:\n",
    "\n",
    "MLOps provides a set of **standardized processes** and technology capabilities for **building**, **deploying**,\n",
    "and **operationalizing** ML systems rapidly and reliably [^1].\n",
    "\n"
   ]
  },
  {
   "cell_type": "markdown",
   "metadata": {},
   "source": [
    "<img src=\"figures/cycle_1.png\" alt=\"mlops_lifecycle\" width=\"600\"/>\n",
    "\n",
    "Image credit: [Practitioners Guide to MLOps](https://services.google.com/fh/files/misc/practitioners_guide_to_mlops_whitepaper.pdf)\n",
    "\n",
    "\n",
    "*Speaker notes*\n",
    "\n",
    "A typical continuous monitoring process consists of the following steps:\n",
    "1. A sample of the request-response payloads is captured and stored in the serving logs store.\n",
    "2. The monitoring engine periodically loads the latest inference logs, generates a schema, and computes statistics for the serving data.\n",
    "3. The monitoring engine compares the generated schema to a reference schema to identify schema skews,\n",
    "4. If the true labels (ground truth) for the serving data are available, the monitoring engine uses it to evaluate the model predictive effectiveness in hindsight on the serving data.\n",
    "5. If anomalies are identified, or if the model’s performance is decaying, alerts can be pushed through various channels (for example, email or chat) to notify the owners to examine the model or to trigger a new retraining cycle. \n",
    "\n",
    "\n",
    "\n",
    "Continuous Monitoring: Typical assets produced in this process include the following:\n",
    "- Anomalies detected in serving data during drift detection\n",
    "- Evaluation metrics produced from\n",
    "continuous evaluation\n",
    "Core MLOps capabilities:\n",
    "- Dataset & feature repository\n",
    "- Model monitoring\n",
    "- ML metadata & artifact repository"
   ]
  },
  {
   "cell_type": "markdown",
   "metadata": {},
   "source": [
    "## An ever better flow\n",
    "\n",
    "\n",
    "<img src=\"figures/cycle_2.png\" alt=\"better_mlops_lifecycle\" width=\"600\"/>\n",
    "\n",
    "\n",
    "*Speaker Note: We will focus on the monitoring part.*\n",
    "\n",
    "Image credit: [Practitioners Guide to MLOps](https://services.google.com/fh/files/misc/practitioners_guide_to_mlops_whitepaper.pdf)"
   ]
  },
  {
   "cell_type": "markdown",
   "metadata": {},
   "source": [
    "# MLFlow\n",
    "\n",
    "\n",
    "<img src=\"figures/mlflow.png\" alt=\"mlflow\" width=\"800\"/>\n",
    "\n",
    "*Speaker note: version 1 came out in 2019, version 2 is work in progress. Idea is to standardize the tools that are needed in developing ML.*\n",
    "\n",
    "\n",
    "\n"
   ]
  },
  {
   "cell_type": "markdown",
   "metadata": {},
   "source": [
    "<img src=\"figures/mlflow_famous.png\" alt=\"mlflow_famous\" width=\"600\"/>\n",
    "\n",
    "Also: More than 10 talks only at Pydata within the last 2 years.\n",
    "\n",
    "*Speaker note: I am not affiliated with Databricks. MLFlow is now an open source project, and as a MLEngineer you should make sure the project you are going to put in your roadmap is healthy and well maintained.*\n",
    "\n",
    "Want to get started? [mlflow.org/docs/latest/quickstart.html](https://mlflow.org/docs/latest/quickstart.html)"
   ]
  },
  {
   "cell_type": "code",
   "execution_count": 15,
   "metadata": {},
   "outputs": [],
   "source": [
    "# TODO: Add funny intermission here\n",
    "\n",
    "\n",
    "# Game video?"
   ]
  },
  {
   "cell_type": "markdown",
   "metadata": {},
   "source": [
    "# Tracking data quality with MLFlow\n",
    "\n"
   ]
  },
  {
   "cell_type": "code",
   "execution_count": null,
   "metadata": {},
   "outputs": [],
   "source": []
  },
  {
   "cell_type": "code",
   "execution_count": null,
   "metadata": {},
   "outputs": [],
   "source": []
  },
  {
   "cell_type": "code",
   "execution_count": null,
   "metadata": {},
   "outputs": [],
   "source": [
    "# Traclking model performance with MLFlow"
   ]
  },
  {
   "cell_type": "code",
   "execution_count": null,
   "metadata": {},
   "outputs": [],
   "source": []
  },
  {
   "cell_type": "code",
   "execution_count": null,
   "metadata": {},
   "outputs": [],
   "source": []
  },
  {
   "cell_type": "code",
   "execution_count": 10,
   "metadata": {},
   "outputs": [
    {
     "name": "stderr",
     "output_type": "stream",
     "text": [
      "2022/06/13 18:54:11 INFO mlflow.tracking.fluent: Autologging successfully enabled for pyspark.\n",
      "2022/06/13 18:54:11 INFO mlflow.pyspark.ml: No SparkSession detected. Autologging will log pyspark.ml models contained in the default allowlist. To specify a custom allowlist, initialize a SparkSession prior to calling mlflow.pyspark.ml.autolog() and specify the path to your allowlist file via the spark.mlflow.pysparkml.autolog.logModelAllowlistFile conf.\n",
      "2022/06/13 18:54:11 INFO mlflow.tracking.fluent: Autologging successfully enabled for pyspark.ml.\n"
     ]
    }
   ],
   "source": [
    "### Mlflow Model Tracking Extra EZ\n",
    "\n",
    "\n",
    "mlflow.autolog()"
   ]
  },
  {
   "cell_type": "code",
   "execution_count": null,
   "metadata": {},
   "outputs": [],
   "source": []
  },
  {
   "cell_type": "code",
   "execution_count": null,
   "metadata": {},
   "outputs": [],
   "source": []
  },
  {
   "cell_type": "code",
   "execution_count": null,
   "metadata": {},
   "outputs": [],
   "source": []
  },
  {
   "cell_type": "code",
   "execution_count": null,
   "metadata": {},
   "outputs": [],
   "source": []
  },
  {
   "cell_type": "code",
   "execution_count": null,
   "metadata": {},
   "outputs": [],
   "source": []
  },
  {
   "cell_type": "markdown",
   "metadata": {},
   "source": [
    "# Monitoring with Grafana\n",
    "\n",
    "### Python has many great options \n",
    "- for custom dashboards (Panel, Dash, pyscript can make it run directly in browser) (TODO: add images)\n",
    "- Local notebook, but not live (TODO: add image)"
   ]
  },
  {
   "cell_type": "markdown",
   "metadata": {},
   "source": [
    "##  Grafana is an out-of-the box tool that can be used by everyone in your team very easily.\n",
    "\n",
    "TODO: Add Image\n",
    "\n",
    "Resources: [grafana.com/grafana/dashboards/](https://grafana.com/grafana/dashboards/)\n",
    "\n",
    "- *Joke:* So unless you are like me even doing presentations with Python, maybe you want to take a look at this!"
   ]
  },
  {
   "cell_type": "code",
   "execution_count": null,
   "metadata": {},
   "outputs": [],
   "source": [
    "# Grafana connection to DB"
   ]
  },
  {
   "cell_type": "code",
   "execution_count": 11,
   "metadata": {},
   "outputs": [],
   "source": [
    "# Grafana Connection to REST API"
   ]
  },
  {
   "cell_type": "code",
   "execution_count": null,
   "metadata": {},
   "outputs": [],
   "source": [
    "# Grafana visualization of datasets sizes"
   ]
  },
  {
   "cell_type": "code",
   "execution_count": 14,
   "metadata": {},
   "outputs": [],
   "source": [
    "# Grafana visualization of datasets KPIs (distribution, variance etc)"
   ]
  },
  {
   "cell_type": "code",
   "execution_count": 13,
   "metadata": {},
   "outputs": [],
   "source": [
    "# Grafana Alerts\n",
    "\n",
    "\n",
    "# TODO: check from Hugo's dashboards"
   ]
  },
  {
   "cell_type": "markdown",
   "metadata": {},
   "source": [
    "# Main Takeaways\n",
    "\n",
    "\n",
    "## For ML Engineers/ Data Scientists:\n",
    "\n",
    "When starting an ML project ask yourself this question: \n",
    "**Is this going to production? Is this going to automate process/drive decisions?**\n",
    "- If no, just hack away in your notebook. Be are you really sure?\n",
    "- If yes, start with an MLOps mindset. Information are out there, and platforms are starting to become more stable.\n",
    "\n",
    "\n",
    "*Speaker note: Worked for months on a project. Finally my data is clean, DNN is hyper-tuned, cross-validated, trained and deployed. Done! But was I really?*\n"
   ]
  },
  {
   "cell_type": "markdown",
   "metadata": {},
   "source": [
    "## Are you an ML Product Owner?\n",
    "- Things are moving fast! Data Engineers, Data Scientists and ML Engineers are different roles. Show image.\n",
    "- ML takes time! Plan in advance and consider your cycle end to end!\n",
    "\n",
    "\n",
    "\n",
    "<img src=\"figures/careers.png\" alt=\"careers\" width=\"600\"/>\n",
    "\n",
    "Image credit: [altexsoft.com/blog/machine-learning-engineer/](https://www.altexsoft.com/blog/machine-learning-engineer/)"
   ]
  },
  {
   "cell_type": "markdown",
   "metadata": {},
   "source": [
    "# Can I contribute to these projects?\n",
    "\n",
    "Absolutely yes!\n",
    "\n",
    "MLFLow: [https://github.com/mlflow/mlflow](https://github.com/mlflow/mlflow)\n",
    "\n",
    "Grafana: [https://github.com/grafana/grafana](https://github.com/grafana/grafana)\n"
   ]
  },
  {
   "cell_type": "markdown",
   "metadata": {},
   "source": [
    "# Questions?\n",
    "\n",
    "\n",
    "------------------------\n",
    "\n",
    "\n",
    "# Contact me at\n",
    "\n",
    "- **GitHub**: https://github.com/dave-frazzetto\n",
    "- **Linkedin**: https://www.linkedin.com/in/dfrazz/\n",
    "- **PS handle**: djdave666066\n",
    "- **Ubiconnect**: dj_davesan\n",
    "\n",
    "<img src=\"figures/division.jpg\" alt=\"drawing\" width=\"600\"/>"
   ]
  }
 ],
 "metadata": {
  "celltoolbar": "Slideshow",
  "interpreter": {
   "hash": "6903fc3057ca54af3e1515d4fced658de77bbdda055fa4b853af41e9570b8915"
  },
  "kernelspec": {
   "display_name": "Python 3 (ipykernel)",
   "language": "python",
   "name": "python3"
  },
  "language_info": {
   "codemirror_mode": {
    "name": "ipython",
    "version": 3
   },
   "file_extension": ".py",
   "mimetype": "text/x-python",
   "name": "python",
   "nbconvert_exporter": "python",
   "pygments_lexer": "ipython3",
   "version": "3.9.7"
  }
 },
 "nbformat": 4,
 "nbformat_minor": 2
}
