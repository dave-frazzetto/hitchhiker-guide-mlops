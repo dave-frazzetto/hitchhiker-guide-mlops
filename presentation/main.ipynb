{
 "cells": [
  {
   "cell_type": "code",
   "execution_count": null,
   "metadata": {
    "slideshow": {
     "slide_type": "skip"
    }
   },
   "outputs": [],
   "source": [
    "from IPython.display import Image\n",
    "\n",
    "import mlflow\n",
    "import os\n",
    "import json\n",
    "\n",
    "import numpy as np\n",
    "import mlflow.sklearn\n",
    "from mlflow.tracking import MlflowClient\n",
    "from sklearn.linear_model import LinearRegression"
   ]
  },
  {
   "cell_type": "code",
   "execution_count": null,
   "metadata": {
    "slideshow": {
     "slide_type": "skip"
    }
   },
   "outputs": [],
   "source": [
    "mlflow.set_tracking_uri(f\"https://merlin-mlflow.uat.dna.ubi.com/\")"
   ]
  },
  {
   "cell_type": "markdown",
   "metadata": {
    "slideshow": {
     "slide_type": "slide"
    }
   },
   "source": [
    "# A Hitchhiker’s Guide to MLOps\n",
    "\n",
    "### Don't Panic and Grab Your ~~Towel~~ Notebook!\n",
    "\n",
    "\n",
    "\n",
    "## Davide Frazzetto | June 2022"
   ]
  },
  {
   "cell_type": "markdown",
   "metadata": {
    "slideshow": {
     "slide_type": "slide"
    }
   },
   "source": [
    "# whoami\n",
    "\n",
    "- day\n",
    "    - MLOps Engineer @Massive Entertainment | A Ubisoft Studio\n",
    "- night\n",
    "    - Guitarist in a completely unknown metal band\n",
    "\n",
    "\n",
    "\n",
    "<img src=\"figures/massive.jpg\" alt=\"tay\" width=\"500\"/>"
   ]
  },
  {
   "cell_type": "markdown",
   "metadata": {
    "slideshow": {
     "slide_type": "slide"
    }
   },
   "source": [
    "# You said MLOps? Do I need to care about it?\n",
    "\n",
    "\n",
    "### Remember Tay?\n",
    "<img src=\"figures/tay.PNG\" alt=\"tay\" width=\"400\"/>\n",
    "\n",
    "\n"
   ]
  },
  {
   "cell_type": "markdown",
   "metadata": {
    "slideshow": {
     "slide_type": "notes"
    }
   },
   "source": [
    "Speakers notes: Microsoft BOT tweets collage. released 2016, down in less than 24h"
   ]
  },
  {
   "cell_type": "markdown",
   "metadata": {
    "slideshow": {
     "slide_type": "subslide"
    }
   },
   "source": [
    "\n",
    "# What are your KPIs?\n",
    "\n",
    "![racism_police](figures/racism.png)\n",
    "\n",
    "\n",
    "\n",
    "\n",
    "\n"
   ]
  },
  {
   "cell_type": "markdown",
   "metadata": {
    "slideshow": {
     "slide_type": "notes"
    }
   },
   "source": [
    "- If they had a monitoring system tracking as KPI Bot racism, they would have noticed things going wrong before it was too late\n",
    "- This shows there are two important points:\n",
    "    - Set your KPI right! Monitoring the wrong things is not really that useful\n",
    "    - Live monitoring"
   ]
  },
  {
   "cell_type": "markdown",
   "metadata": {
    "slideshow": {
     "slide_type": "subslide"
    }
   },
   "source": [
    "# AI philosophy 101?\n",
    "\n",
    "In a data driven world, do you want to leave your bots unsupervised? \n",
    "\n",
    "![Free AI?](figures/blade.gif)\n",
    "\n",
    "\n"
   ]
  },
  {
   "cell_type": "markdown",
   "metadata": {
    "slideshow": {
     "slide_type": "notes"
    }
   },
   "source": [
    "*Speaker note: Not all AIs results are as visible and easy to grasp as the Microsoft Bot. Some will simply cost you millions.*"
   ]
  },
  {
   "cell_type": "markdown",
   "metadata": {
    "slideshow": {
     "slide_type": "slide"
    }
   },
   "source": [
    "# Question time\n",
    "\n",
    "<img src=\"figures/42.PNG\" alt=\"42\" width=\"500\"/>\n",
    "\n"
   ]
  },
  {
   "cell_type": "markdown",
   "metadata": {
    "slideshow": {
     "slide_type": "notes"
    }
   },
   "source": [
    "Speakers notes:\n",
    "\n",
    "- Who has deployed an ML app to production?\n",
    "- Who has tracked/monitored an ML app?"
   ]
  },
  {
   "cell_type": "markdown",
   "metadata": {
    "slideshow": {
     "slide_type": "slide"
    }
   },
   "source": [
    "# Today\n",
    "\n",
    "- DevOps is good!\n",
    "- MLOps: a panicless introduction\n",
    "- Tracking with MLFlow\n",
    "- Monitoring with Grafana\n",
    "- Helpful tips and resources\n"
   ]
  },
  {
   "cell_type": "markdown",
   "metadata": {
    "slideshow": {
     "slide_type": "notes"
    }
   },
   "source": [
    "# Key principles of DevOps:\n",
    "\n",
    "- Automation\n",
    "- Iteration\n",
    "- Self-service\n",
    "- Continuous Development/Integration\n",
    "- Continuous testing\n",
    "- Collaboration"
   ]
  },
  {
   "cell_type": "markdown",
   "metadata": {
    "slideshow": {
     "slide_type": "subslide"
    }
   },
   "source": [
    "<img src=\"figures/devops_vs_mlops.png\" alt=\"devops_mlops\" width=\"800\"/>\n",
    "\n",
    "Image credit: [valohai.com/blog/difference-between-devops-and-mlops/](https://valohai.com/blog/difference-between-devops-and-mlops/)"
   ]
  },
  {
   "cell_type": "markdown",
   "metadata": {
    "slideshow": {
     "slide_type": "notes"
    }
   },
   "source": [
    "*Speaker note: Explain multidimensional ML challenge vs software engineering (code VS data), best with picture*"
   ]
  },
  {
   "cell_type": "markdown",
   "metadata": {
    "slideshow": {
     "slide_type": "slide"
    }
   },
   "source": [
    "# Part 2 - MLOps: A Panicless Introduction\n",
    "\n",
    "### What is it?\n",
    "\n",
    "MLOps provides a set of **standardized processes** and technology capabilities for **building**, **deploying**,\n",
    "and **operationalizing** ML systems rapidly and reliably.\n",
    "\n"
   ]
  },
  {
   "cell_type": "markdown",
   "metadata": {
    "slideshow": {
     "slide_type": "subslide"
    }
   },
   "source": [
    "<img src=\"figures/cycle_1.png\" alt=\"mlops_lifecycle\" width=\"500\"/>\n",
    "\n",
    "Image credit: [Practitioners Guide to MLOps](https://services.google.com/fh/files/misc/practitioners_guide_to_mlops_whitepaper.pdf)\n",
    "\n",
    "\n"
   ]
  },
  {
   "cell_type": "markdown",
   "metadata": {
    "slideshow": {
     "slide_type": "notes"
    }
   },
   "source": [
    "*Speaker notes*\n",
    "\n",
    "\n",
    "Continuous Monitoring: Typical assets produced in this process include the following:\n",
    "- Anomalies detected in serving data during drift detection\n",
    "- Evaluation metrics produced from\n",
    "continuous evaluation\n",
    "Core MLOps capabilities:\n",
    "- Dataset & feature repository\n",
    "- Model monitoring\n",
    "- ML metadata & artifact repository"
   ]
  },
  {
   "cell_type": "markdown",
   "metadata": {
    "slideshow": {
     "slide_type": "subslide"
    }
   },
   "source": [
    "# What happens after deployment?\n",
    "\n",
    "\n",
    "\n",
    "## \"Ch-Ch-Ch-Ch-Chan Changes.\"\n",
    "-- Davide Bowie\n",
    "\n",
    "\n",
    "\n",
    "\n",
    "<img src=\"figures/change.gif\" alt=\"changes\" width=\"200\"/>"
   ]
  },
  {
   "cell_type": "markdown",
   "metadata": {
    "slideshow": {
     "slide_type": "notes"
    }
   },
   "source": [
    "Speaker notes: we will focus on monitoring"
   ]
  },
  {
   "cell_type": "markdown",
   "metadata": {
    "slideshow": {
     "slide_type": "subslide"
    }
   },
   "source": [
    "<img src=\"figures/monitor_meme.jpg\" alt=\"anakin\" width=\"500\"/>\n",
    "\n",
    "\n"
   ]
  },
  {
   "cell_type": "markdown",
   "metadata": {
    "slideshow": {
     "slide_type": "slide"
    }
   },
   "source": [
    "# Part 3 - Tracking with MLFlow\n",
    "\n",
    "\n",
    "<img src=\"figures/mlflow_main.png\" alt=\"mlflow_main\" width=\"600\"/>\n",
    "<img src=\"figures/mlflow_famous.png\" alt=\"mlflow_famous\" width=\"600\"/>\n",
    "\n",
    "\n",
    "\n",
    "\n",
    "Also: More than 10 talks only at Pydata within the last 2 years.\n"
   ]
  },
  {
   "cell_type": "markdown",
   "metadata": {
    "slideshow": {
     "slide_type": "notes"
    }
   },
   "source": [
    "\n",
    "*Speaker note: version 1 came out in 2019, version 2 is work in progress. Idea is to standardize the tools that are needed in developing ML.*\n",
    "\n",
    "*Speaker note: I am not affiliated with Databricks. MLFlow is now an open source project, and as a MLEngineer you should make sure the project you are going to put in your roadmap is healthy and well maintained.*\n"
   ]
  },
  {
   "cell_type": "markdown",
   "metadata": {
    "slideshow": {
     "slide_type": "subslide"
    }
   },
   "source": [
    "<img src=\"figures/mlflow_arch.jpg\" alt=\"mlflow\" width=\"800\"/>\n",
    "\n",
    "<img src=\"figures/mlflow.png\" alt=\"mlflow\" width=\"800\"/>\n",
    "\n",
    "\n",
    "Image credit: [databricks.com/it/blog/2020/04/15/databricks-extends-mlflow-model-registry-with-enterprise-features.html](https://databricks.com/it/blog/2020/04/15/databricks-extends-mlflow-model-registry-with-enterprise-features.html)"
   ]
  },
  {
   "cell_type": "markdown",
   "metadata": {
    "slideshow": {
     "slide_type": "slide"
    }
   },
   "source": [
    "# Experiments and Runs\n",
    "\n",
    "<img src=\"figures/mlflow_ui.gif\" alt=\"mlflow_ui\" width=\"1000\"/>"
   ]
  },
  {
   "cell_type": "markdown",
   "metadata": {
    "slideshow": {
     "slide_type": "subslide"
    }
   },
   "source": [
    "# What should I track?\n",
    "\n",
    "- Data Quality\n",
    "- Model Performance\n",
    "- Code, Configurations, parameters\n",
    "- Datasets"
   ]
  },
  {
   "cell_type": "code",
   "execution_count": null,
   "metadata": {
    "slideshow": {
     "slide_type": "slide"
    }
   },
   "outputs": [],
   "source": [
    "# Creating an experiment\n",
    "\n",
    "mlflow.set_experiment(\"pydata_2022\")\n",
    "mlflow.start_run()\n",
    "# ... code!\n",
    "mlflow.end_run()"
   ]
  },
  {
   "cell_type": "code",
   "execution_count": null,
   "metadata": {
    "slideshow": {
     "slide_type": "subslide"
    }
   },
   "outputs": [],
   "source": [
    "# Logging some basic data metrics for a run\n",
    "\n",
    "with mlflow.start_run():\n",
    "    mlflow.log_metric(\"training_size\", 1000)\n",
    "    mlflow.log_metric(\"validation_size\", 500)\n",
    "    mlflow.log_metric(\"dropped_rows\", 34)\n",
    "    mlflow.log_metric(\"empty_labels\", 42)"
   ]
  },
  {
   "cell_type": "code",
   "execution_count": null,
   "metadata": {
    "slideshow": {
     "slide_type": "subslide"
    }
   },
   "outputs": [],
   "source": [
    "# But you can also log tags!\n",
    "with mlflow.start_run():\n",
    "    mlflow.set_tags({\"training_status\": \"DONE\", \"panic_status\": \"Don't\"})"
   ]
  },
  {
   "cell_type": "code",
   "execution_count": null,
   "metadata": {
    "slideshow": {
     "slide_type": "subslide"
    }
   },
   "outputs": [],
   "source": [
    "# Logging datasets or configurations as artifacts!\n",
    "\n",
    "configuration = {\"important_setting\": 42, \"param_2\": \"dolphins\"}\n",
    "data = {\n",
    "    \"planet\": \"Earth\", \n",
    "    \"status\": \"destroyed\",\n",
    "    \"description\": \"Mostly Harmless\"\n",
    "    }\n",
    "\n",
    "# Create a local file to save within folder \"data\"\n",
    "os.makedirs(\"data\", exist_ok=True)\n",
    "with open(\"data/data.json\", 'w', encoding='utf-8') as f:\n",
    "    json.dump(data, f, indent=2)\n",
    "\n",
    "\n",
    "# Write artifacts to root artifact_uri\n",
    "with mlflow.start_run():\n",
    "    mlflow.log_artifact(\"data\", \"\")\n",
    "    mlflow.log_dict(configuration, \"config.json\")"
   ]
  },
  {
   "cell_type": "code",
   "execution_count": null,
   "metadata": {
    "slideshow": {
     "slide_type": "subslide"
    }
   },
   "outputs": [],
   "source": [
    "# Context managers are nice!\n",
    "\n",
    "with mlflow.start_run():\n",
    "    # All your perfect ML code here ...\n",
    "    # ... which crashes!\n",
    "    raise IndexError # MLFlow run not closed: FAILED!\n",
    "\n",
    "    \n",
    "    # More perfect code ...\n",
    "\n",
    "\n"
   ]
  },
  {
   "cell_type": "markdown",
   "metadata": {
    "slideshow": {
     "slide_type": "slide"
    }
   },
   "source": [
    "# Drifting is Dangerous!\n",
    "\n",
    "\n",
    "<img src=\"figures/drifting.gif\" alt=\"drifting\" width=\"600\"/>\n",
    "\n",
    "\n"
   ]
  },
  {
   "cell_type": "markdown",
   "metadata": {
    "slideshow": {
     "slide_type": "subslide"
    }
   },
   "source": [
    "## Data Drift\n",
    "For example, changes in input data due to seasonality, personal preference changes, trends, etc.\n",
    "\n",
    "\n",
    "<img src=\"figures/data_drift.jpeg\" alt=\"datadrift\" width=\"500\"/>\n",
    "\n",
    "### How do I track this?\n",
    "- Changes in distributions of input data.\n",
    "- Changes in labels distribution."
   ]
  },
  {
   "cell_type": "markdown",
   "metadata": {
    "slideshow": {
     "slide_type": "subslide"
    }
   },
   "source": [
    "## Concept Drift\n",
    "Shift in the actual relationship between the model inputs and the output. For example, if a feature is introduced but it is not explicit in the input data.\n",
    "\n",
    "\n",
    "\n",
    "<img src=\"figures/concept_drift.png\" alt=\"cnceptdrift\" width=\"500\"/>\n",
    "\n",
    "### How do I track this?\n",
    "- Tracking the quality of the predictions."
   ]
  },
  {
   "cell_type": "markdown",
   "metadata": {
    "slideshow": {
     "slide_type": "slide"
    }
   },
   "source": [
    "# Tracking model quality\n",
    "\n",
    "\n",
    "- Set your KPIs: Accuracy, Precision, F1score, NDCG, etc.\n",
    "    - EZ!\n"
   ]
  },
  {
   "cell_type": "markdown",
   "metadata": {
    "slideshow": {
     "slide_type": "fragment"
    }
   },
   "source": [
    "- Log them as metrics of a run!\n",
    "    - We know how to now!"
   ]
  },
  {
   "cell_type": "markdown",
   "metadata": {
    "slideshow": {
     "slide_type": "subslide"
    }
   },
   "source": [
    "# MLFLow Autlog\n",
    "\n",
    "Interfaces with the most common ML libraries, eg scikit-learn.\n",
    "\n",
    "### How does it work?\n",
    "\n",
    "In sklearn **autologging** is performed when you call:\n",
    "\n",
    "- estimator.fit()\n",
    "- estimator.fit_predict()\n",
    "- estimator.fit_transform()"
   ]
  },
  {
   "cell_type": "code",
   "execution_count": null,
   "metadata": {
    "slideshow": {
     "slide_type": "subslide"
    }
   },
   "outputs": [],
   "source": [
    "# Autolog of sklearn Linear Regression\n",
    "X = np.array([[1, 1], [1, 2], [2, 2], [2, 3]])\n",
    "y = np.dot(X, np.array([1, 2])) + 3\n",
    "\n",
    "# Enable autologging, automatically recognizes sklearn package\n",
    "mlflow.autolog()\n",
    "\n",
    "# Start logging a run\n",
    "with mlflow.start_run() as run:\n",
    "    model = LinearRegression()\n",
    "    model.fit(X, y)\n",
    "\n"
   ]
  },
  {
   "cell_type": "markdown",
   "metadata": {
    "slideshow": {
     "slide_type": "fragment"
    }
   },
   "source": [
    "<img src=\"figures/mlflow_run_details.gif\" alt=\"mlflowrun\" width=\"600\"/>"
   ]
  },
  {
   "cell_type": "markdown",
   "metadata": {
    "slideshow": {
     "slide_type": "slide"
    }
   },
   "source": [
    "# Part 4 -  Monitoring with Grafana\n",
    "\n",
    "### Python has great dashboarding options \n",
    "\n",
    "<img src=\"figures/python_visualization.png\" alt=\"akk_the_python_visualizations\" width=\"300\"/>"
   ]
  },
  {
   "cell_type": "markdown",
   "metadata": {
    "slideshow": {
     "slide_type": "subslide"
    }
   },
   "source": [
    "<img src=\"figures/grafana.png\" alt=\"plugins_1\" width=\"200\"/>\n",
    "\n",
    "\n",
    "- No code required: quick start!\n",
    "- Runs on virtually any modern platform.\n",
    "- Loads of plugins for connections and visualizations.\n"
   ]
  },
  {
   "cell_type": "markdown",
   "metadata": {
    "slideshow": {
     "slide_type": "notes"
    }
   },
   "source": [
    "- runs on everything: win, linux, docker, k8s etc\n",
    "- So unless you are like me even doing presentations with Python, maybe you want to take a look at this!"
   ]
  },
  {
   "cell_type": "markdown",
   "metadata": {
    "slideshow": {
     "slide_type": "slide"
    }
   },
   "source": [
    "# Grafana dashboards\n",
    "\n",
    "\n",
    "<img src=\"figures/grafana_1.GIF\" alt=\"grafna_1\" width=\"1000\"/>"
   ]
  },
  {
   "cell_type": "markdown",
   "metadata": {
    "slideshow": {
     "slide_type": "subslide"
    }
   },
   "source": [
    "# Remember to setup ALERTS!\n",
    "\n",
    "<img src=\"figures/grafana_alert.gif\" alt=\"alert\" width=\"600\"/>"
   ]
  },
  {
   "cell_type": "markdown",
   "metadata": {
    "slideshow": {
     "slide_type": "subslide"
    }
   },
   "source": [
    "# Connection to REST API\n",
    "\n",
    "\n",
    "<img src=\"figures/grafana_rest.gif\" alt=\"grafana_rest\" width=\"1000\"/>"
   ]
  },
  {
   "cell_type": "markdown",
   "metadata": {
    "slideshow": {
     "slide_type": "slide"
    }
   },
   "source": [
    "# Helpful Tips\n",
    "\n",
    "\n",
    "## Are you a ML Engineer/Data Scientist?\n",
    "\n",
    "When starting an ML project ask yourself this question: \n",
    "**Do you want to release and automate this ML System?**\n",
    "- If no, just hack away in your notebook. But are you really sure?\n",
    "- If yes, start with an MLOps mindset. Information are out there, and platforms are starting to become more stable.\n",
    "\n",
    "\n",
    "\n"
   ]
  },
  {
   "cell_type": "markdown",
   "metadata": {
    "slideshow": {
     "slide_type": "notes"
    }
   },
   "source": [
    "*Speaker note: Worked for months on a project. Finally my data is clean, DNN is hyper-tuned, cross-validated, trained and deployed. Done! But was I really?*"
   ]
  },
  {
   "cell_type": "markdown",
   "metadata": {
    "slideshow": {
     "slide_type": "subslide"
    }
   },
   "source": [
    "## Are you an ML Product Owner?\n",
    "- Things in ML are moving fast!\n",
    "- ML takes time! Plan in advance and consider your cycle end to end!\n",
    "\n",
    "\n",
    "\n",
    "<img src=\"figures/careers.png\" alt=\"careers\" width=\"600\"/>\n",
    "\n",
    "Image credit: [altexsoft.com/blog/machine-learning-engineer/](https://www.altexsoft.com/blog/machine-learning-engineer/)"
   ]
  },
  {
   "cell_type": "markdown",
   "metadata": {
    "slideshow": {
     "slide_type": "subslide"
    }
   },
   "source": [
    "# Resources\n",
    "\n",
    "Get started with MLFlow [mlflow.org/docs/latest/quickstart.html](https://mlflow.org/docs/latest/quickstart.html)\n",
    "\n",
    "Setup a Grafana instance [grafana.com/docs/grafana/next/setup-grafana/installation/](https://grafana.com/docs/grafana/next/setup-grafana/installation/)\n",
    "\n",
    "Get some Grafana Dashboards templates: [grafana.com/grafana/dashboards/](https://grafana.com/grafana/dashboards/)\n",
    "\n",
    "\n",
    "## Can I contribute to these projects?\n",
    "\n",
    "Absolutely yes!\n",
    "\n",
    "MLFLow: [https://github.com/mlflow/mlflow](https://github.com/mlflow/mlflow)\n",
    "\n",
    "Grafana: [https://github.com/grafana/grafana](https://github.com/grafana/grafana)\n"
   ]
  },
  {
   "cell_type": "markdown",
   "metadata": {
    "slideshow": {
     "slide_type": "slide"
    }
   },
   "source": [
    "# Questions?\n",
    "\n",
    "\n",
    "------------------------\n",
    "\n",
    "\n",
    "# Contact me at\n",
    "\n",
    "- **GitHub**: https://github.com/dave-frazzetto\n",
    "- **Linkedin**: https://www.linkedin.com/in/dfrazz/\n",
    "- **PS handle**: djdave666066\n",
    "- **Ubiconnect**: dj_davesan\n",
    "\n",
    "<img src=\"figures/division.jpg\" alt=\"drawing\" width=\"300\"/>"
   ]
  }
 ],
 "metadata": {
  "celltoolbar": "Slideshow",
  "interpreter": {
   "hash": "6903fc3057ca54af3e1515d4fced658de77bbdda055fa4b853af41e9570b8915"
  },
  "kernelspec": {
   "display_name": "Python 3 (ipykernel)",
   "language": "python",
   "name": "python3"
  },
  "language_info": {
   "codemirror_mode": {
    "name": "ipython",
    "version": 3
   },
   "file_extension": ".py",
   "mimetype": "text/x-python",
   "name": "python",
   "nbconvert_exporter": "python",
   "pygments_lexer": "ipython3",
   "version": "3.9.7"
  }
 },
 "nbformat": 4,
 "nbformat_minor": 2
}
