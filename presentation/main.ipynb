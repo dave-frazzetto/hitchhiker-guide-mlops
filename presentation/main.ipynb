{
 "cells": [
  {
   "cell_type": "markdown",
   "metadata": {
    "slideshow": {
     "slide_type": "notes"
    }
   },
   "source": [
    "# Plan\n",
    "\n",
    "\n",
    "- Introduction about me/Massive (1m)\n",
    "    - ME\n",
    "        - Work\n",
    "        - My fav games\n",
    "    - Massive:\n",
    "        - Ubisoft studio\n",
    "        - MSV Games\n",
    "        - Game Intelligence Department\n",
    "- Funny hook to MLOps (3m)\n",
    "  - Common ML issue / things that can go really wrong\n",
    "      - Microsoft Bot\n",
    "          - Show what happened\n",
    "          - If they had a monitoring system tracking as KPI AI racism, they would have noticed things going wrong before it was too late\n",
    "          - This shows there are two important points:\n",
    "              - Live monitoring\n",
    "              - Set your KPI right! Monitoring the wrong things is not really that useful\n",
    "      - In a data driven world, do you want to leave your bot free to act?\n",
    "          - Not all AIs results are as visible,easy to grasp as the Microsoft Bot.\n",
    "  - Questions to the audience:\n",
    "      - Who has deployed an ML app to production?\n",
    "      - Who has tracked/monitored an ML app?\n",
    "- Agenda Slide (1m)\n",
    "- Going through the presentation (See Agenda below)\n",
    "- Conlusions (1m)\n",
    "- Examples on how to contribute to these projects (1m)\n",
    "- How to contact me\n",
    "    - GitHub\n",
    "    - Linkedin\n",
    "    - PS handle\n",
    "    - Ubiconnect handle"
   ]
  },
  {
   "cell_type": "markdown",
   "metadata": {
    "slideshow": {
     "slide_type": "notes"
    }
   },
   "source": [
    "# Agenda\n",
    "\n",
    "\n",
    "- Traditional ML development VS MLOps driven ML development (3 mins)\n",
    "    - Why is DevOps good in Software\n",
    "    - BUT ML is a different case\n",
    "        - Explain multidimensional ML challenge vs software engineering (code VS data)\n",
    "    \n",
    "- Key concepts in MLops (5 mins)\n",
    "    - Waterfall cycle vs Agile cycle\n",
    "    - Focus on Monitoring\n",
    "\n",
    "    \n",
    "- MLFlow (3 mins)\n",
    "    - What is MLFlow?\n",
    "        - Tracking\n",
    "        - Projects\n",
    "        - Model\n",
    "        - Registry\n",
    "    - Getting started: https://mlflow.org/docs/latest/quickstart.html\n",
    "    \n",
    "- Funny game intermission\n",
    "    - funny video about some game stuff\n",
    "    - OR when switching between screens show desktop background being muffins vs cihuaua / sheepdog or mop (joke: yes I keep training myself every day, you don't want to get outdated)\n",
    "        \n",
    "- MLFlow for data and model tracking in Python (8 mins)\n",
    "Check below notes\n",
    "\n",
    "- Grafana for human friendly monitoring of a live ML application (5 mins)\n",
    "    - Python has many great options \n",
    "        - for custom dashboards (Panel, Dash, pyscript can make it run directly in browser)\n",
    "        - Local notebook, but not live\n",
    "    - BUT Grafana is a actually an out-of-the box tool that can be used by everyone in your team very easily.\n",
    "    - How to get an instance of Grafana running\n",
    "    - Grafana queries:\n",
    "        - Grafana to DB\n",
    "        - Grafana to Rest API\n",
    "    - Grafana interactive dashboards\n",
    "    - Grafana alerts:\n",
    "        - examples\n",
    "    - Grafana resources:\n",
    "        - List of Dashboards: https://grafana.com/grafana/dashboards/\n",
    "\n",
    "- Common Pitfalls and tricks (2m)\n",
    "    - Personal reference: worked for 9 months on a project, finally your data is clean, DNN is hyper-tuned, cross-validated, trained and deployed. Done! But are you really?\n",
    "    - Figure out your KPIs!\n",
    "    \n",
    "- Main Takeways\n",
    "    - For ML Engineers/ Data Scientists When starting an ML project ask yourself this question: Is this going to production? Is this going to automate process/drive decisions?\n",
    "        - If no, just hack away in your notebook. Be my guest!\n",
    "        - If yes, start with an MLOps mindset. Information are out there, and platforms are starting to become more stable.\n",
    "    - Are you an ML Product Owner, project manager, team lead or others?\n",
    "        - Things are moving fast. Data Engineers, data scientists and ML Engineers are becoming more and more specialized, and with different interests. Show image. Consider hiring different people for different tasks!\n",
    "        - ML takes time! Plan in advance and consider your cycle end to end!"
   ]
  },
  {
   "cell_type": "markdown",
   "metadata": {
    "slideshow": {
     "slide_type": "notes"
    }
   },
   "source": [
    "# MLOps monitoring notes\n",
    "\n",
    "## Flow\n",
    "    A typical continuous monitoring process consists of the following steps:\n",
    "    1. A sample of the request-response payloads is captured and stored in the serving logs store.\n",
    "    2. The monitoring engine periodically loads the latest inference logs, generates a schema, and computes statistics for the serving data.\n",
    "    3. The monitoring engine compares the generated schema to a reference schema to identify schema skews,\n",
    "    4. If the true labels (ground truth) for the serving data are available, the monitoring engine uses it to evaluate the model predictive effectiveness in hindsight on the serving data.\n",
    "    5. If anomalies are identified, or if the model’s performance is decaying, alerts can be pushed through various channels (for example, email or chat) to notify the owners to examine the model or to trigger a new retraining cycle. \n",
    "\n",
    "\n",
    "\n",
    "## Continuous Monitoring\n",
    "Typical assets produced in this\n",
    "process include the following:\n",
    "• Anomalies detected in serving data\n",
    "during drift detection\n",
    "• Evaluation metrics produced from\n",
    "continuous evaluation\n",
    "Core MLOps capabilities:\n",
    "• Dataset & feature repository\n",
    "• Model monitoring\n",
    "• ML metadata & artifact repository"
   ]
  },
  {
   "cell_type": "code",
   "execution_count": null,
   "metadata": {},
   "outputs": [],
   "source": []
  }
 ],
 "metadata": {
  "celltoolbar": "Slideshow",
  "interpreter": {
   "hash": "6903fc3057ca54af3e1515d4fced658de77bbdda055fa4b853af41e9570b8915"
  },
  "kernelspec": {
   "display_name": "Python 3 (ipykernel)",
   "language": "python",
   "name": "python3"
  },
  "language_info": {
   "codemirror_mode": {
    "name": "ipython",
    "version": 3
   },
   "file_extension": ".py",
   "mimetype": "text/x-python",
   "name": "python",
   "nbconvert_exporter": "python",
   "pygments_lexer": "ipython3",
   "version": "3.9.7"
  }
 },
 "nbformat": 4,
 "nbformat_minor": 2
}
